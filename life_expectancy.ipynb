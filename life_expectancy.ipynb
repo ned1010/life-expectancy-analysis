{
 "cells": [
  {
   "cell_type": "markdown",
   "id": "63d8f82a",
   "metadata": {},
   "source": [
    "# Life Expectancy Analysis Using TensorFlow"
   ]
  },
  {
   "cell_type": "code",
   "execution_count": 66,
   "id": "6ed27413",
   "metadata": {},
   "outputs": [],
   "source": [
    "import pandas as pd\n",
    "from sklearn.model_selection import train_test_split\n",
    "from sklearn.compose import ColumnTransformer\n",
    "from sklearn.preprocessing import Normalizer, StandardScaler\n",
    "from tensorflow.keras.models import Sequential\n",
    "from tensorflow.keras.layers import InputLayer, Dense\n",
    "from tensorflow.keras.optimizers import Adam"
   ]
  },
  {
   "cell_type": "code",
   "execution_count": null,
   "id": "df43690d",
   "metadata": {},
   "outputs": [],
   "source": [
    "dataset = pd.read_csv(\"life_expectancy.csv\")\n",
    "dataset.shape\n",
    "dataset.describe()"
   ]
  },
  {
   "cell_type": "code",
   "execution_count": null,
   "id": "49cc894c",
   "metadata": {},
   "outputs": [],
   "source": [
    "dataset.columns"
   ]
  },
  {
   "cell_type": "code",
   "execution_count": null,
   "id": "882d660f",
   "metadata": {},
   "outputs": [],
   "source": [
    "df = dataset.drop([\"Country\"], axis=1) \n",
    "#dropping country column, axis=1 is for columns and axis=row is for rows"
   ]
  },
  {
   "cell_type": "code",
   "execution_count": null,
   "id": "456f81e5",
   "metadata": {},
   "outputs": [],
   "source": [
    "df.columns"
   ]
  },
  {
   "cell_type": "code",
   "execution_count": null,
   "id": "e31436f3",
   "metadata": {},
   "outputs": [],
   "source": [
    "#splitting data into labels and features\n",
    "labels = df.iloc[:, -1] #life expectancy column is the label\n",
    "features = df.iloc[:, 0:20] #rest of the columns are features of the data\n",
    "features"
   ]
  },
  {
   "cell_type": "markdown",
   "id": "723c04d0",
   "metadata": {},
   "source": [
    "##### Data Preprocessing"
   ]
  },
  {
   "cell_type": "code",
   "execution_count": null,
   "id": "b4594753",
   "metadata": {},
   "outputs": [],
   "source": [
    "#one-hot encoding of categorial features \n",
    "#development status is converted either to 1 or 0\n",
    "features = pd.get_dummies(features)\n",
    "features"
   ]
  },
  {
   "cell_type": "code",
   "execution_count": 11,
   "id": "d88935b8",
   "metadata": {},
   "outputs": [],
   "source": [
    "#splitting the data into train and test set\n",
    "features_train, features_test, labels_train, labels_test = train_test_split(features, labels, test_size=0.2, random_state=0)"
   ]
  },
  {
   "cell_type": "code",
   "execution_count": 13,
   "id": "e191e53a",
   "metadata": {},
   "outputs": [
    {
     "data": {
      "text/plain": [
       "(588, 21)"
      ]
     },
     "execution_count": 13,
     "metadata": {},
     "output_type": "execute_result"
    }
   ],
   "source": [
    "# features_train.shape\n",
    "# features_test.shape"
   ]
  },
  {
   "cell_type": "code",
   "execution_count": 38,
   "id": "91b6023f",
   "metadata": {},
   "outputs": [],
   "source": [
    "#normalisation of the data because different features have different data ranges\n",
    "#normalisation ensures that everything is between 0 and 1 for the numerical data values\n",
    "numerical_features = features.select_dtypes(include=['float64', 'int64'])\n",
    "numerical_columns = numerical_features.columns\n",
    "# numerical_columns\n"
   ]
  },
  {
   "cell_type": "code",
   "execution_count": 39,
   "id": "fda95d79",
   "metadata": {},
   "outputs": [],
   "source": [
    "ct = ColumnTransformer([('normalize', Normalizer(), numerical_columns)], remainder='passthrough')"
   ]
  },
  {
   "cell_type": "code",
   "execution_count": 52,
   "id": "085dfa2c",
   "metadata": {},
   "outputs": [],
   "source": [
    "#normalising teh training set\n",
    "#returns np array\n",
    "features_train_scaled = ct.fit_transform(features_train)\n",
    "#changing to pd dataframe\n",
    "# features_train_df = pd.DataFrame(features_train_scaled, columns=features_train.columns)\n",
    "# features_train_df.head(5)"
   ]
  },
  {
   "cell_type": "code",
   "execution_count": 47,
   "id": "e8b0f2b3",
   "metadata": {},
   "outputs": [],
   "source": [
    "#normalising the test set\n",
    "features_test_scaled = ct.fit(features_test)"
   ]
  },
  {
   "cell_type": "markdown",
   "id": "9329dd84",
   "metadata": {},
   "source": [
    "#### Building The Model"
   ]
  },
  {
   "cell_type": "code",
   "execution_count": 54,
   "id": "1cb9daed",
   "metadata": {},
   "outputs": [
    {
     "name": "stdout",
     "output_type": "stream",
     "text": [
      "Metal device set to: Apple M1\n"
     ]
    },
    {
     "name": "stderr",
     "output_type": "stream",
     "text": [
      "2022-08-08 16:21:21.003846: I tensorflow/core/common_runtime/pluggable_device/pluggable_device_factory.cc:305] Could not identify NUMA node of platform GPU ID 0, defaulting to 0. Your kernel may not have been built with NUMA support.\n",
      "2022-08-08 16:21:21.006348: I tensorflow/core/common_runtime/pluggable_device/pluggable_device_factory.cc:271] Created TensorFlow device (/job:localhost/replica:0/task:0/device:GPU:0 with 0 MB memory) -> physical PluggableDevice (device: 0, name: METAL, pci bus id: <undefined>)\n"
     ]
    }
   ],
   "source": [
    "#sequential model \n",
    "my_model = Sequential()"
   ]
  },
  {
   "cell_type": "code",
   "execution_count": 55,
   "id": "2c1dd83e",
   "metadata": {},
   "outputs": [],
   "source": [
    "#creating an input layer using keras library\n",
    "#shape of input layer is the same as the number of columns\n",
    "input = InputLayer(input_shape=(features.shape[1],))\n",
    "my_model.add(input)"
   ]
  },
  {
   "cell_type": "code",
   "execution_count": 60,
   "id": "72f18b81",
   "metadata": {},
   "outputs": [],
   "source": [
    "#hidden layer with 64 neurons in it\n",
    "my_model.add(Dense(64, activation=\"relu\"))"
   ]
  },
  {
   "cell_type": "code",
   "execution_count": 61,
   "id": "1e1c9bca",
   "metadata": {},
   "outputs": [],
   "source": [
    "#tensorflow has one oneput layer\n",
    "#output layer\n",
    "my_model.add(Dense(1))\n"
   ]
  },
  {
   "cell_type": "code",
   "execution_count": 63,
   "id": "6c18f9da",
   "metadata": {},
   "outputs": [
    {
     "name": "stdout",
     "output_type": "stream",
     "text": [
      "Model: \"sequential\"\n",
      "_________________________________________________________________\n",
      " Layer (type)                Output Shape              Param #   \n",
      "=================================================================\n",
      " dense (Dense)               (None, 64)                1408      \n",
      "                                                                 \n",
      " dense_1 (Dense)             (None, 1)                 65        \n",
      "                                                                 \n",
      " dense_2 (Dense)             (None, 64)                128       \n",
      "                                                                 \n",
      " dense_3 (Dense)             (None, 1)                 65        \n",
      "                                                                 \n",
      "=================================================================\n",
      "Total params: 1,666\n",
      "Trainable params: 1,666\n",
      "Non-trainable params: 0\n",
      "_________________________________________________________________\n"
     ]
    }
   ],
   "source": [
    "my_model.summary()"
   ]
  },
  {
   "cell_type": "markdown",
   "id": "29db5463",
   "metadata": {},
   "source": [
    "#### Optimizer & Compile"
   ]
  },
  {
   "cell_type": "code",
   "execution_count": 67,
   "id": "611e67cb",
   "metadata": {},
   "outputs": [],
   "source": [
    "opt = Adam(learning_rate=0.01)"
   ]
  },
  {
   "cell_type": "code",
   "execution_count": 76,
   "id": "431ac540",
   "metadata": {},
   "outputs": [],
   "source": [
    "#mse is mean square error and mea is mean error average\n",
    "my_model.compile(loss=\"mse\", metrics=[\"mae\"], optimizer=opt)"
   ]
  },
  {
   "cell_type": "markdown",
   "id": "76b77e73",
   "metadata": {},
   "source": [
    "#### Fit & Evaluate"
   ]
  },
  {
   "cell_type": "code",
   "execution_count": 77,
   "id": "d88f8ca1",
   "metadata": {},
   "outputs": [
    {
     "name": "stdout",
     "output_type": "stream",
     "text": [
      "Epoch 1/40\n"
     ]
    },
    {
     "name": "stderr",
     "output_type": "stream",
     "text": [
      "2022-08-08 16:53:56.358471: I tensorflow/core/grappler/optimizers/custom_graph_optimizer_registry.cc:113] Plugin optimizer for device_type GPU is enabled.\n"
     ]
    },
    {
     "name": "stdout",
     "output_type": "stream",
     "text": [
      "2350/2350 [==============================] - 12s 4ms/step - loss: 22054711296.0000 - mae: 9715.3398\n",
      "Epoch 2/40\n",
      "2350/2350 [==============================] - 8s 3ms/step - loss: 4857.6421 - mae: 69.0470\n",
      "Epoch 3/40\n",
      "2350/2350 [==============================] - 8s 3ms/step - loss: 4846.2676 - mae: 68.9645\n",
      "Epoch 4/40\n",
      "2350/2350 [==============================] - 8s 3ms/step - loss: 4809.5073 - mae: 68.6969\n",
      "Epoch 5/40\n",
      "2350/2350 [==============================] - 8s 3ms/step - loss: 4692.4546 - mae: 67.8396\n",
      "Epoch 6/40\n",
      "2350/2350 [==============================] - 8s 4ms/step - loss: 4338.2231 - mae: 65.1664\n",
      "Epoch 7/40\n",
      "2350/2350 [==============================] - 8s 4ms/step - loss: 3445.3811 - mae: 57.8352\n",
      "Epoch 8/40\n",
      "2350/2350 [==============================] - 8s 3ms/step - loss: 2033.8726 - mae: 43.7996\n",
      "Epoch 9/40\n",
      "2350/2350 [==============================] - 9s 4ms/step - loss: 834.6344 - mae: 26.8451\n",
      "Epoch 10/40\n",
      "2350/2350 [==============================] - 10s 4ms/step - loss: 246.0083 - mae: 13.7274\n",
      "Epoch 11/40\n",
      "2350/2350 [==============================] - 8s 4ms/step - loss: 101.5478 - mae: 8.6007\n",
      "Epoch 12/40\n",
      "2350/2350 [==============================] - 9s 4ms/step - loss: 90.4321 - mae: 7.8246\n",
      "Epoch 13/40\n",
      "2350/2350 [==============================] - 8s 4ms/step - loss: 90.2277 - mae: 7.7704\n",
      "Epoch 14/40\n",
      "2350/2350 [==============================] - 9s 4ms/step - loss: 90.2404 - mae: 7.7750\n",
      "Epoch 15/40\n",
      "2350/2350 [==============================] - 8s 3ms/step - loss: 90.2228 - mae: 7.7691\n",
      "Epoch 16/40\n",
      "2350/2350 [==============================] - 8s 3ms/step - loss: 90.2222 - mae: 7.7514\n",
      "Epoch 17/40\n",
      "2350/2350 [==============================] - 8s 3ms/step - loss: 90.2188 - mae: 7.7804\n",
      "Epoch 18/40\n",
      "2350/2350 [==============================] - 8s 3ms/step - loss: 90.2398 - mae: 7.7616\n",
      "Epoch 19/40\n",
      "2350/2350 [==============================] - 8s 3ms/step - loss: 90.2299 - mae: 7.7598\n",
      "Epoch 20/40\n",
      "2350/2350 [==============================] - 8s 3ms/step - loss: 90.2212 - mae: 7.7832\n",
      "Epoch 21/40\n",
      "2350/2350 [==============================] - 8s 4ms/step - loss: 90.2283 - mae: 7.7655\n",
      "Epoch 22/40\n",
      "2350/2350 [==============================] - 8s 3ms/step - loss: 90.2367 - mae: 7.7679\n",
      "Epoch 23/40\n",
      "2350/2350 [==============================] - 8s 3ms/step - loss: 90.2402 - mae: 7.7657\n",
      "Epoch 24/40\n",
      "2350/2350 [==============================] - 8s 4ms/step - loss: 90.2426 - mae: 7.7562\n",
      "Epoch 25/40\n",
      "2350/2350 [==============================] - 8s 3ms/step - loss: 90.2508 - mae: 7.7635\n",
      "Epoch 26/40\n",
      "2350/2350 [==============================] - 10s 4ms/step - loss: 90.2360 - mae: 7.7718\n",
      "Epoch 27/40\n",
      "2350/2350 [==============================] - 10s 4ms/step - loss: 90.1499 - mae: 7.7448\n",
      "Epoch 28/40\n",
      "2350/2350 [==============================] - 9s 4ms/step - loss: 90.2279 - mae: 7.7783\n",
      "Epoch 29/40\n",
      "2350/2350 [==============================] - 8s 4ms/step - loss: 90.2500 - mae: 7.7679\n",
      "Epoch 30/40\n",
      "2350/2350 [==============================] - 9s 4ms/step - loss: 90.2309 - mae: 7.7777\n",
      "Epoch 31/40\n",
      "2350/2350 [==============================] - 8s 3ms/step - loss: 90.2315 - mae: 7.7657\n",
      "Epoch 32/40\n",
      "2350/2350 [==============================] - 8s 3ms/step - loss: 90.2345 - mae: 7.7663\n",
      "Epoch 33/40\n",
      "2350/2350 [==============================] - 8s 3ms/step - loss: 90.2084 - mae: 7.7689\n",
      "Epoch 34/40\n",
      "2350/2350 [==============================] - 8s 3ms/step - loss: 90.2314 - mae: 7.7644\n",
      "Epoch 35/40\n",
      "2350/2350 [==============================] - 9s 4ms/step - loss: 90.2314 - mae: 7.7635\n",
      "Epoch 36/40\n",
      "2350/2350 [==============================] - 8s 4ms/step - loss: 90.2200 - mae: 7.7601\n",
      "Epoch 37/40\n",
      "2350/2350 [==============================] - 8s 4ms/step - loss: 90.1938 - mae: 7.7528\n",
      "Epoch 38/40\n",
      "2350/2350 [==============================] - 8s 3ms/step - loss: 90.2380 - mae: 7.7938\n",
      "Epoch 39/40\n",
      "2350/2350 [==============================] - 8s 4ms/step - loss: 90.2364 - mae: 7.7689\n",
      "Epoch 40/40\n",
      "2350/2350 [==============================] - 8s 3ms/step - loss: 90.2294 - mae: 7.7579\n"
     ]
    },
    {
     "data": {
      "text/plain": [
       "<keras.callbacks.History at 0x16c2e0970>"
      ]
     },
     "execution_count": 77,
     "metadata": {},
     "output_type": "execute_result"
    }
   ],
   "source": [
    "#epochs is number of times the you go through over the dataset\n",
    "#batch_size is the number of samples, for instance first 10 samples, \n",
    "#seen before updating parameters\n",
    "\n",
    "my_model.fit(features_train, labels_train, epochs=40, batch_size=1, verbose=1)"
   ]
  },
  {
   "cell_type": "code",
   "execution_count": 78,
   "id": "b471fadb",
   "metadata": {},
   "outputs": [
    {
     "name": "stderr",
     "output_type": "stream",
     "text": [
      "2022-08-08 17:01:15.657727: I tensorflow/core/grappler/optimizers/custom_graph_optimizer_registry.cc:113] Plugin optimizer for device_type GPU is enabled.\n"
     ]
    }
   ],
   "source": [
    "#testing to the test data set\n",
    "final_mse, final_mae = my_model.evaluate(features_test, labels_test, verbose=0)"
   ]
  },
  {
   "cell_type": "code",
   "execution_count": 83,
   "id": "8f7a5915",
   "metadata": {},
   "outputs": [
    {
     "data": {
      "text/plain": [
       "91.38189697265625"
      ]
     },
     "execution_count": 83,
     "metadata": {},
     "output_type": "execute_result"
    }
   ],
   "source": [
    "final_mse"
   ]
  },
  {
   "cell_type": "code",
   "execution_count": 84,
   "id": "b75c4cb7",
   "metadata": {},
   "outputs": [
    {
     "data": {
      "text/plain": [
       "7.906745433807373"
      ]
     },
     "execution_count": 84,
     "metadata": {},
     "output_type": "execute_result"
    }
   ],
   "source": [
    "final_mae"
   ]
  },
  {
   "cell_type": "code",
   "execution_count": null,
   "id": "75059631",
   "metadata": {},
   "outputs": [],
   "source": []
  }
 ],
 "metadata": {
  "kernelspec": {
   "display_name": "Python 3 (ipykernel)",
   "language": "python",
   "name": "python3"
  },
  "language_info": {
   "codemirror_mode": {
    "name": "ipython",
    "version": 3
   },
   "file_extension": ".py",
   "mimetype": "text/x-python",
   "name": "python",
   "nbconvert_exporter": "python",
   "pygments_lexer": "ipython3",
   "version": "3.8.13"
  }
 },
 "nbformat": 4,
 "nbformat_minor": 5
}
